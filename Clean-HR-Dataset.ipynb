{
  "nbformat": 4,
  "nbformat_minor": 0,
  "metadata": {
    "colab": {
      "provenance": [],
      "authorship_tag": "ABX9TyMg7H1NwhSXszQLC3zERQeJ",
      "include_colab_link": true
    },
    "kernelspec": {
      "name": "python3",
      "display_name": "Python 3"
    },
    "language_info": {
      "name": "python"
    }
  },
  "cells": [
    {
      "cell_type": "markdown",
      "metadata": {
        "id": "view-in-github",
        "colab_type": "text"
      },
      "source": [
        "<a href=\"https://colab.research.google.com/github/sarahwehkamp/HR-Employee-Data-Analysis/blob/main/Clean-HR-Dataset.ipynb\" target=\"_parent\"><img src=\"https://colab.research.google.com/assets/colab-badge.svg\" alt=\"Open In Colab\"/></a>"
      ]
    },
    {
      "cell_type": "markdown",
      "source": [
        "# Load the dataset"
      ],
      "metadata": {
        "id": "Du2i9B3oXkHU"
      }
    },
    {
      "cell_type": "code",
      "execution_count": null,
      "metadata": {
        "colab": {
          "base_uri": "https://localhost:8080/",
          "height": 1000
        },
        "id": "WN_XEhnpRNos",
        "outputId": "bb8189b5-c6a8-4bed-ae30-d516be2538eb"
      },
      "outputs": [
        {
          "output_type": "display_data",
          "data": {
            "text/plain": [
              "<IPython.core.display.HTML object>"
            ],
            "text/html": [
              "\n",
              "     <input type=\"file\" id=\"files-3af72c11-9480-4da2-b001-8939edb1b8fd\" name=\"files[]\" multiple disabled\n",
              "        style=\"border:none\" />\n",
              "     <output id=\"result-3af72c11-9480-4da2-b001-8939edb1b8fd\">\n",
              "      Upload widget is only available when the cell has been executed in the\n",
              "      current browser session. Please rerun this cell to enable.\n",
              "      </output>\n",
              "      <script>// Copyright 2017 Google LLC\n",
              "//\n",
              "// Licensed under the Apache License, Version 2.0 (the \"License\");\n",
              "// you may not use this file except in compliance with the License.\n",
              "// You may obtain a copy of the License at\n",
              "//\n",
              "//      http://www.apache.org/licenses/LICENSE-2.0\n",
              "//\n",
              "// Unless required by applicable law or agreed to in writing, software\n",
              "// distributed under the License is distributed on an \"AS IS\" BASIS,\n",
              "// WITHOUT WARRANTIES OR CONDITIONS OF ANY KIND, either express or implied.\n",
              "// See the License for the specific language governing permissions and\n",
              "// limitations under the License.\n",
              "\n",
              "/**\n",
              " * @fileoverview Helpers for google.colab Python module.\n",
              " */\n",
              "(function(scope) {\n",
              "function span(text, styleAttributes = {}) {\n",
              "  const element = document.createElement('span');\n",
              "  element.textContent = text;\n",
              "  for (const key of Object.keys(styleAttributes)) {\n",
              "    element.style[key] = styleAttributes[key];\n",
              "  }\n",
              "  return element;\n",
              "}\n",
              "\n",
              "// Max number of bytes which will be uploaded at a time.\n",
              "const MAX_PAYLOAD_SIZE = 100 * 1024;\n",
              "\n",
              "function _uploadFiles(inputId, outputId) {\n",
              "  const steps = uploadFilesStep(inputId, outputId);\n",
              "  const outputElement = document.getElementById(outputId);\n",
              "  // Cache steps on the outputElement to make it available for the next call\n",
              "  // to uploadFilesContinue from Python.\n",
              "  outputElement.steps = steps;\n",
              "\n",
              "  return _uploadFilesContinue(outputId);\n",
              "}\n",
              "\n",
              "// This is roughly an async generator (not supported in the browser yet),\n",
              "// where there are multiple asynchronous steps and the Python side is going\n",
              "// to poll for completion of each step.\n",
              "// This uses a Promise to block the python side on completion of each step,\n",
              "// then passes the result of the previous step as the input to the next step.\n",
              "function _uploadFilesContinue(outputId) {\n",
              "  const outputElement = document.getElementById(outputId);\n",
              "  const steps = outputElement.steps;\n",
              "\n",
              "  const next = steps.next(outputElement.lastPromiseValue);\n",
              "  return Promise.resolve(next.value.promise).then((value) => {\n",
              "    // Cache the last promise value to make it available to the next\n",
              "    // step of the generator.\n",
              "    outputElement.lastPromiseValue = value;\n",
              "    return next.value.response;\n",
              "  });\n",
              "}\n",
              "\n",
              "/**\n",
              " * Generator function which is called between each async step of the upload\n",
              " * process.\n",
              " * @param {string} inputId Element ID of the input file picker element.\n",
              " * @param {string} outputId Element ID of the output display.\n",
              " * @return {!Iterable<!Object>} Iterable of next steps.\n",
              " */\n",
              "function* uploadFilesStep(inputId, outputId) {\n",
              "  const inputElement = document.getElementById(inputId);\n",
              "  inputElement.disabled = false;\n",
              "\n",
              "  const outputElement = document.getElementById(outputId);\n",
              "  outputElement.innerHTML = '';\n",
              "\n",
              "  const pickedPromise = new Promise((resolve) => {\n",
              "    inputElement.addEventListener('change', (e) => {\n",
              "      resolve(e.target.files);\n",
              "    });\n",
              "  });\n",
              "\n",
              "  const cancel = document.createElement('button');\n",
              "  inputElement.parentElement.appendChild(cancel);\n",
              "  cancel.textContent = 'Cancel upload';\n",
              "  const cancelPromise = new Promise((resolve) => {\n",
              "    cancel.onclick = () => {\n",
              "      resolve(null);\n",
              "    };\n",
              "  });\n",
              "\n",
              "  // Wait for the user to pick the files.\n",
              "  const files = yield {\n",
              "    promise: Promise.race([pickedPromise, cancelPromise]),\n",
              "    response: {\n",
              "      action: 'starting',\n",
              "    }\n",
              "  };\n",
              "\n",
              "  cancel.remove();\n",
              "\n",
              "  // Disable the input element since further picks are not allowed.\n",
              "  inputElement.disabled = true;\n",
              "\n",
              "  if (!files) {\n",
              "    return {\n",
              "      response: {\n",
              "        action: 'complete',\n",
              "      }\n",
              "    };\n",
              "  }\n",
              "\n",
              "  for (const file of files) {\n",
              "    const li = document.createElement('li');\n",
              "    li.append(span(file.name, {fontWeight: 'bold'}));\n",
              "    li.append(span(\n",
              "        `(${file.type || 'n/a'}) - ${file.size} bytes, ` +\n",
              "        `last modified: ${\n",
              "            file.lastModifiedDate ? file.lastModifiedDate.toLocaleDateString() :\n",
              "                                    'n/a'} - `));\n",
              "    const percent = span('0% done');\n",
              "    li.appendChild(percent);\n",
              "\n",
              "    outputElement.appendChild(li);\n",
              "\n",
              "    const fileDataPromise = new Promise((resolve) => {\n",
              "      const reader = new FileReader();\n",
              "      reader.onload = (e) => {\n",
              "        resolve(e.target.result);\n",
              "      };\n",
              "      reader.readAsArrayBuffer(file);\n",
              "    });\n",
              "    // Wait for the data to be ready.\n",
              "    let fileData = yield {\n",
              "      promise: fileDataPromise,\n",
              "      response: {\n",
              "        action: 'continue',\n",
              "      }\n",
              "    };\n",
              "\n",
              "    // Use a chunked sending to avoid message size limits. See b/62115660.\n",
              "    let position = 0;\n",
              "    do {\n",
              "      const length = Math.min(fileData.byteLength - position, MAX_PAYLOAD_SIZE);\n",
              "      const chunk = new Uint8Array(fileData, position, length);\n",
              "      position += length;\n",
              "\n",
              "      const base64 = btoa(String.fromCharCode.apply(null, chunk));\n",
              "      yield {\n",
              "        response: {\n",
              "          action: 'append',\n",
              "          file: file.name,\n",
              "          data: base64,\n",
              "        },\n",
              "      };\n",
              "\n",
              "      let percentDone = fileData.byteLength === 0 ?\n",
              "          100 :\n",
              "          Math.round((position / fileData.byteLength) * 100);\n",
              "      percent.textContent = `${percentDone}% done`;\n",
              "\n",
              "    } while (position < fileData.byteLength);\n",
              "  }\n",
              "\n",
              "  // All done.\n",
              "  yield {\n",
              "    response: {\n",
              "      action: 'complete',\n",
              "    }\n",
              "  };\n",
              "}\n",
              "\n",
              "scope.google = scope.google || {};\n",
              "scope.google.colab = scope.google.colab || {};\n",
              "scope.google.colab._files = {\n",
              "  _uploadFiles,\n",
              "  _uploadFilesContinue,\n",
              "};\n",
              "})(self);\n",
              "</script> "
            ]
          },
          "metadata": {}
        },
        {
          "output_type": "stream",
          "name": "stdout",
          "text": [
            "Saving HRDataset_v14.csv to HRDataset_v14 (1).csv\n",
            "\n",
            "Successfully loaded the dataset: HRDataset_v14 (1).csv\n",
            "\n",
            "First few rows of the DataFrame:\n",
            "              Employee_Name  EmpID  MarriedID  MaritalStatusID  GenderID  \\\n",
            "0       Adinolfi, Wilson  K  10026          0                0         1   \n",
            "1  Ait Sidi, Karthikeyan     10084          1                1         1   \n",
            "2         Akinkuolie, Sarah  10196          1                1         0   \n",
            "3              Alagbe,Trina  10088          1                1         0   \n",
            "4          Anderson, Carol   10069          0                2         0   \n",
            "\n",
            "   EmpStatusID  DeptID  PerfScoreID  FromDiversityJobFairID  Salary  ...  \\\n",
            "0            1       5            4                       0   62506  ...   \n",
            "1            5       3            3                       0  104437  ...   \n",
            "2            5       5            3                       0   64955  ...   \n",
            "3            1       5            3                       0   64991  ...   \n",
            "4            5       5            3                       0   50825  ...   \n",
            "\n",
            "      ManagerName  ManagerID RecruitmentSource PerformanceScore  \\\n",
            "0  Michael Albert       22.0          LinkedIn          Exceeds   \n",
            "1      Simon Roup        4.0            Indeed      Fully Meets   \n",
            "2  Kissy Sullivan       20.0          LinkedIn      Fully Meets   \n",
            "3    Elijiah Gray       16.0            Indeed      Fully Meets   \n",
            "4  Webster Butler       39.0     Google Search      Fully Meets   \n",
            "\n",
            "   EngagementSurvey EmpSatisfaction SpecialProjectsCount  \\\n",
            "0              4.60               5                    0   \n",
            "1              4.96               3                    6   \n",
            "2              3.02               3                    0   \n",
            "3              4.84               5                    0   \n",
            "4              5.00               4                    0   \n",
            "\n",
            "  LastPerformanceReview_Date DaysLateLast30 Absences  \n",
            "0                  1/17/2019              0        1  \n",
            "1                  2/24/2016              0       17  \n",
            "2                  5/15/2012              0        3  \n",
            "3                   1/3/2019              0       15  \n",
            "4                   2/1/2016              0        2  \n",
            "\n",
            "[5 rows x 36 columns]\n",
            "\n",
            "Information about the DataFrame:\n",
            "<class 'pandas.core.frame.DataFrame'>\n",
            "RangeIndex: 311 entries, 0 to 310\n",
            "Data columns (total 36 columns):\n",
            " #   Column                      Non-Null Count  Dtype  \n",
            "---  ------                      --------------  -----  \n",
            " 0   Employee_Name               311 non-null    object \n",
            " 1   EmpID                       311 non-null    int64  \n",
            " 2   MarriedID                   311 non-null    int64  \n",
            " 3   MaritalStatusID             311 non-null    int64  \n",
            " 4   GenderID                    311 non-null    int64  \n",
            " 5   EmpStatusID                 311 non-null    int64  \n",
            " 6   DeptID                      311 non-null    int64  \n",
            " 7   PerfScoreID                 311 non-null    int64  \n",
            " 8   FromDiversityJobFairID      311 non-null    int64  \n",
            " 9   Salary                      311 non-null    int64  \n",
            " 10  Termd                       311 non-null    int64  \n",
            " 11  PositionID                  311 non-null    int64  \n",
            " 12  Position                    311 non-null    object \n",
            " 13  State                       311 non-null    object \n",
            " 14  Zip                         311 non-null    int64  \n",
            " 15  DOB                         311 non-null    object \n",
            " 16  Sex                         311 non-null    object \n",
            " 17  MaritalDesc                 311 non-null    object \n",
            " 18  CitizenDesc                 311 non-null    object \n",
            " 19  HispanicLatino              311 non-null    object \n",
            " 20  RaceDesc                    311 non-null    object \n",
            " 21  DateofHire                  311 non-null    object \n",
            " 22  DateofTermination           104 non-null    object \n",
            " 23  TermReason                  311 non-null    object \n",
            " 24  EmploymentStatus            311 non-null    object \n",
            " 25  Department                  311 non-null    object \n",
            " 26  ManagerName                 311 non-null    object \n",
            " 27  ManagerID                   303 non-null    float64\n",
            " 28  RecruitmentSource           311 non-null    object \n",
            " 29  PerformanceScore            311 non-null    object \n",
            " 30  EngagementSurvey            311 non-null    float64\n",
            " 31  EmpSatisfaction             311 non-null    int64  \n",
            " 32  SpecialProjectsCount        311 non-null    int64  \n",
            " 33  LastPerformanceReview_Date  311 non-null    object \n",
            " 34  DaysLateLast30              311 non-null    int64  \n",
            " 35  Absences                    311 non-null    int64  \n",
            "dtypes: float64(2), int64(16), object(18)\n",
            "memory usage: 87.6+ KB\n",
            "None\n",
            "\n",
            "Descriptive statistics for numerical columns:\n",
            "              EmpID   MarriedID  MaritalStatusID    GenderID  EmpStatusID  \\\n",
            "count    311.000000  311.000000       311.000000  311.000000   311.000000   \n",
            "mean   10156.000000    0.398714         0.810289    0.434084     2.392283   \n",
            "std       89.922189    0.490423         0.943239    0.496435     1.794383   \n",
            "min    10001.000000    0.000000         0.000000    0.000000     1.000000   \n",
            "25%    10078.500000    0.000000         0.000000    0.000000     1.000000   \n",
            "50%    10156.000000    0.000000         1.000000    0.000000     1.000000   \n",
            "75%    10233.500000    1.000000         1.000000    1.000000     5.000000   \n",
            "max    10311.000000    1.000000         4.000000    1.000000     5.000000   \n",
            "\n",
            "           DeptID  PerfScoreID  FromDiversityJobFairID         Salary  \\\n",
            "count  311.000000   311.000000              311.000000     311.000000   \n",
            "mean     4.610932     2.977492                0.093248   69020.684887   \n",
            "std      1.083487     0.587072                0.291248   25156.636930   \n",
            "min      1.000000     1.000000                0.000000   45046.000000   \n",
            "25%      5.000000     3.000000                0.000000   55501.500000   \n",
            "50%      5.000000     3.000000                0.000000   62810.000000   \n",
            "75%      5.000000     3.000000                0.000000   72036.000000   \n",
            "max      6.000000     4.000000                1.000000  250000.000000   \n",
            "\n",
            "            Termd  PositionID           Zip   ManagerID  EngagementSurvey  \\\n",
            "count  311.000000  311.000000    311.000000  303.000000        311.000000   \n",
            "mean     0.334405   16.845659   6555.482315   14.570957          4.110000   \n",
            "std      0.472542    6.223419  16908.396884    8.078306          0.789938   \n",
            "min      0.000000    1.000000   1013.000000    1.000000          1.120000   \n",
            "25%      0.000000   18.000000   1901.500000   10.000000          3.690000   \n",
            "50%      0.000000   19.000000   2132.000000   15.000000          4.280000   \n",
            "75%      1.000000   20.000000   2355.000000   19.000000          4.700000   \n",
            "max      1.000000   30.000000  98052.000000   39.000000          5.000000   \n",
            "\n",
            "       EmpSatisfaction  SpecialProjectsCount  DaysLateLast30    Absences  \n",
            "count       311.000000            311.000000      311.000000  311.000000  \n",
            "mean          3.890675              1.218650        0.414791   10.237942  \n",
            "std           0.909241              2.349421        1.294519    5.852596  \n",
            "min           1.000000              0.000000        0.000000    1.000000  \n",
            "25%           3.000000              0.000000        0.000000    5.000000  \n",
            "50%           4.000000              0.000000        0.000000   10.000000  \n",
            "75%           5.000000              0.000000        0.000000   15.000000  \n",
            "max           5.000000              8.000000        6.000000   20.000000  \n",
            "\n",
            "Number of missing values per column:\n",
            "Employee_Name                   0\n",
            "EmpID                           0\n",
            "MarriedID                       0\n",
            "MaritalStatusID                 0\n",
            "GenderID                        0\n",
            "EmpStatusID                     0\n",
            "DeptID                          0\n",
            "PerfScoreID                     0\n",
            "FromDiversityJobFairID          0\n",
            "Salary                          0\n",
            "Termd                           0\n",
            "PositionID                      0\n",
            "Position                        0\n",
            "State                           0\n",
            "Zip                             0\n",
            "DOB                             0\n",
            "Sex                             0\n",
            "MaritalDesc                     0\n",
            "CitizenDesc                     0\n",
            "HispanicLatino                  0\n",
            "RaceDesc                        0\n",
            "DateofHire                      0\n",
            "DateofTermination             207\n",
            "TermReason                      0\n",
            "EmploymentStatus                0\n",
            "Department                      0\n",
            "ManagerName                     0\n",
            "ManagerID                       8\n",
            "RecruitmentSource               0\n",
            "PerformanceScore                0\n",
            "EngagementSurvey                0\n",
            "EmpSatisfaction                 0\n",
            "SpecialProjectsCount            0\n",
            "LastPerformanceReview_Date      0\n",
            "DaysLateLast30                  0\n",
            "Absences                        0\n",
            "dtype: int64\n"
          ]
        }
      ],
      "source": [
        "import pandas as pd\n",
        "from google.colab import files\n",
        "\n",
        "# Upload the CSV file from your local machine\n",
        "uploaded = files.upload()\n",
        "\n",
        "# Get the name of the uploaded file\n",
        "file_name = list(uploaded.keys())[0]\n",
        "\n",
        "# Load the dataset into a pandas DataFrame\n",
        "try:\n",
        "    df = pd.read_csv(file_name)\n",
        "    print(f\"\\nSuccessfully loaded the dataset: {file_name}\")\n",
        "    print(\"\\nFirst few rows of the DataFrame:\")\n",
        "    print(df.head())\n",
        "    print(\"\\nInformation about the DataFrame:\")\n",
        "    print(df.info())\n",
        "    print(\"\\nDescriptive statistics for numerical columns:\")\n",
        "    print(df.describe())\n",
        "    print(\"\\nNumber of missing values per column:\")\n",
        "    print(df.isnull().sum())\n",
        "\n",
        "except FileNotFoundError:\n",
        "    print(f\"Error: The file '{file_name}' was not found. Please make sure you uploaded it correctly.\")\n",
        "except Exception as e:\n",
        "    print(f\"An error occurred: {e}\")"
      ]
    },
    {
      "cell_type": "markdown",
      "source": [
        "# Investigate missing ManagerID"
      ],
      "metadata": {
        "id": "QqQ2EDmwX564"
      }
    },
    {
      "cell_type": "code",
      "source": [
        "missing_manager_id = df[df['ManagerID'].isnull()]\n",
        "print(missing_manager_id)"
      ],
      "metadata": {
        "colab": {
          "base_uri": "https://localhost:8080/"
        },
        "id": "70dHTNn8SmoY",
        "outputId": "af1d048d-ddfc-4fab-d8b1-1d938ee5d574"
      },
      "execution_count": null,
      "outputs": [
        {
          "output_type": "stream",
          "name": "stdout",
          "text": [
            "          Employee_Name  EmpID  MarriedID  MaritalStatusID  GenderID  \\\n",
            "19        Becker, Scott  10277          0                0         1   \n",
            "30   Buccheri, Joseph    10184          0                0         1   \n",
            "44    Chang, Donovan  E  10154          0                0         1   \n",
            "88      Fancett, Nicole  10136          0                0         0   \n",
            "135     Hutter, Rosalie  10214          0                3         0   \n",
            "177   Manchester, Robyn  10077          1                1         0   \n",
            "232     Rivera, Haley    10011          1                1         0   \n",
            "251      Sewkumar, Nori  10071          0                0         0   \n",
            "\n",
            "     EmpStatusID  DeptID  PerfScoreID  FromDiversityJobFairID  Salary  ...  \\\n",
            "19             3       5            3                       0   53250  ...   \n",
            "30             1       5            3                       0   65288  ...   \n",
            "44             1       5            3                       0   60380  ...   \n",
            "88             1       5            3                       0   65902  ...   \n",
            "135            2       5            3                       0   64995  ...   \n",
            "177            2       5            3                       0   62385  ...   \n",
            "232            1       5            4                       0   46738  ...   \n",
            "251            3       5            3                       0   50923  ...   \n",
            "\n",
            "        ManagerName  ManagerID RecruitmentSource PerformanceScore  \\\n",
            "19   Webster Butler        NaN          LinkedIn      Fully Meets   \n",
            "30   Webster Butler        NaN     Google Search      Fully Meets   \n",
            "44   Webster Butler        NaN          LinkedIn      Fully Meets   \n",
            "88   Webster Butler        NaN          LinkedIn      Fully Meets   \n",
            "135  Webster Butler        NaN            Indeed      Fully Meets   \n",
            "177  Webster Butler        NaN          LinkedIn      Fully Meets   \n",
            "232  Webster Butler        NaN     Google Search          Exceeds   \n",
            "251  Webster Butler        NaN     Google Search      Fully Meets   \n",
            "\n",
            "     EngagementSurvey EmpSatisfaction SpecialProjectsCount  \\\n",
            "19               4.20               4                    0   \n",
            "30               3.19               3                    0   \n",
            "44               3.80               5                    0   \n",
            "88               4.00               4                    0   \n",
            "135              4.50               3                    0   \n",
            "177              5.00               3                    0   \n",
            "232              4.36               5                    0   \n",
            "251              5.00               5                    0   \n",
            "\n",
            "    LastPerformanceReview_Date DaysLateLast30 Absences  \n",
            "19                   1/11/2019              0       13  \n",
            "30                    2/1/2019              0        9  \n",
            "44                   1/14/2019              0        4  \n",
            "88                    1/7/2019              0        7  \n",
            "135                  2/14/2019              0        6  \n",
            "177                  1/21/2019              0        4  \n",
            "232                  2/11/2019              0       16  \n",
            "251                   2/6/2019              0       14  \n",
            "\n",
            "[8 rows x 36 columns]\n"
          ]
        }
      ]
    },
    {
      "cell_type": "code",
      "source": [
        "missing_manager_id = df[df['ManagerID'].isnull()]\n",
        "print(missing_manager_id[['Employee_Name', 'Department', 'Position', 'ManagerName']])"
      ],
      "metadata": {
        "colab": {
          "base_uri": "https://localhost:8080/"
        },
        "id": "f2DT7lWIS46c",
        "outputId": "38f5ed66-2b88-4088-b4aa-d83cf1d22436"
      },
      "execution_count": null,
      "outputs": [
        {
          "output_type": "stream",
          "name": "stdout",
          "text": [
            "          Employee_Name         Department                  Position  \\\n",
            "19        Becker, Scott  Production          Production Technician I   \n",
            "30   Buccheri, Joseph    Production         Production Technician II   \n",
            "44    Chang, Donovan  E  Production          Production Technician I   \n",
            "88      Fancett, Nicole  Production         Production Technician II   \n",
            "135     Hutter, Rosalie  Production         Production Technician II   \n",
            "177   Manchester, Robyn  Production         Production Technician II   \n",
            "232     Rivera, Haley    Production          Production Technician I   \n",
            "251      Sewkumar, Nori  Production          Production Technician I   \n",
            "\n",
            "        ManagerName  \n",
            "19   Webster Butler  \n",
            "30   Webster Butler  \n",
            "44   Webster Butler  \n",
            "88   Webster Butler  \n",
            "135  Webster Butler  \n",
            "177  Webster Butler  \n",
            "232  Webster Butler  \n",
            "251  Webster Butler  \n"
          ]
        }
      ]
    },
    {
      "cell_type": "markdown",
      "source": [
        "# Impute missing ManagerID"
      ],
      "metadata": {
        "id": "8HUfcI9pYSmk"
      }
    },
    {
      "cell_type": "code",
      "source": [
        "webster_butler_id = df[df['ManagerName'] == 'Webster Butler']['ManagerID'].iloc[0]\n",
        "print(f\"The ManagerID for Webster Butler is: {webster_butler_id}\")"
      ],
      "metadata": {
        "colab": {
          "base_uri": "https://localhost:8080/"
        },
        "id": "Qhs06dq6TGdX",
        "outputId": "73b68de9-beac-4263-9719-76fc6bde40dc"
      },
      "execution_count": null,
      "outputs": [
        {
          "output_type": "stream",
          "name": "stdout",
          "text": [
            "The ManagerID for Webster Butler is: 39.0\n"
          ]
        }
      ]
    },
    {
      "cell_type": "code",
      "source": [
        "webster_butler_id = df[df['ManagerName'] == 'Webster Butler']['ManagerID'].iloc[0]\n",
        "print(f\"The ManagerID for Webster Butler is: {webster_butler_id}\")"
      ],
      "metadata": {
        "colab": {
          "base_uri": "https://localhost:8080/"
        },
        "id": "_20aORjSTTjI",
        "outputId": "42ecae76-a721-493e-e13c-c5886edaf1e4"
      },
      "execution_count": null,
      "outputs": [
        {
          "output_type": "stream",
          "name": "stdout",
          "text": [
            "The ManagerID for Webster Butler is: 39.0\n"
          ]
        }
      ]
    },
    {
      "cell_type": "code",
      "source": [
        "df.loc[df['ManagerID'].isnull(), 'ManagerID'] = webster_butler_id\n",
        "\n",
        "# Verify that the missing values have been filled (again, for good measure)\n",
        "print(\"\\nNumber of missing values in ManagerID after imputation (using .loc):\")\n",
        "print(df['ManagerID'].isnull().sum())"
      ],
      "metadata": {
        "colab": {
          "base_uri": "https://localhost:8080/"
        },
        "id": "qvWVK89oTYfh",
        "outputId": "d3b2e81c-a346-4bef-8aba-4ba762742d09"
      },
      "execution_count": null,
      "outputs": [
        {
          "output_type": "stream",
          "name": "stdout",
          "text": [
            "\n",
            "Number of missing values in ManagerID after imputation (using .loc):\n",
            "0\n"
          ]
        }
      ]
    },
    {
      "cell_type": "markdown",
      "source": [
        "# Check for duplicate rows"
      ],
      "metadata": {
        "id": "93u9Nyr4YYAK"
      }
    },
    {
      "cell_type": "code",
      "source": [
        "duplicates = df.duplicated()\n",
        "print(f\"Number of duplicate rows: {duplicates.sum()}\")\n",
        "\n",
        "# If there are duplicates, you can remove them using:\n",
        "# df.drop_duplicates(inplace=True)\n",
        "# print(f\"Number of rows after removing duplicates: {len(df)}\")"
      ],
      "metadata": {
        "colab": {
          "base_uri": "https://localhost:8080/"
        },
        "id": "EXGG4utfTuTH",
        "outputId": "9ba00aa7-19ef-4fd6-8e04-7b9a6a2b7849"
      },
      "execution_count": null,
      "outputs": [
        {
          "output_type": "stream",
          "name": "stdout",
          "text": [
            "Number of duplicate rows: 0\n"
          ]
        }
      ]
    },
    {
      "cell_type": "code",
      "source": [
        "df.info()"
      ],
      "metadata": {
        "colab": {
          "base_uri": "https://localhost:8080/"
        },
        "id": "Sc7eL4h4T3KW",
        "outputId": "4531dd0d-dee4-4871-bfd3-3e4d83887c1a"
      },
      "execution_count": null,
      "outputs": [
        {
          "output_type": "stream",
          "name": "stdout",
          "text": [
            "<class 'pandas.core.frame.DataFrame'>\n",
            "RangeIndex: 311 entries, 0 to 310\n",
            "Data columns (total 36 columns):\n",
            " #   Column                      Non-Null Count  Dtype  \n",
            "---  ------                      --------------  -----  \n",
            " 0   Employee_Name               311 non-null    object \n",
            " 1   EmpID                       311 non-null    int64  \n",
            " 2   MarriedID                   311 non-null    int64  \n",
            " 3   MaritalStatusID             311 non-null    int64  \n",
            " 4   GenderID                    311 non-null    int64  \n",
            " 5   EmpStatusID                 311 non-null    int64  \n",
            " 6   DeptID                      311 non-null    int64  \n",
            " 7   PerfScoreID                 311 non-null    int64  \n",
            " 8   FromDiversityJobFairID      311 non-null    int64  \n",
            " 9   Salary                      311 non-null    int64  \n",
            " 10  Termd                       311 non-null    int64  \n",
            " 11  PositionID                  311 non-null    int64  \n",
            " 12  Position                    311 non-null    object \n",
            " 13  State                       311 non-null    object \n",
            " 14  Zip                         311 non-null    int64  \n",
            " 15  DOB                         311 non-null    object \n",
            " 16  Sex                         311 non-null    object \n",
            " 17  MaritalDesc                 311 non-null    object \n",
            " 18  CitizenDesc                 311 non-null    object \n",
            " 19  HispanicLatino              311 non-null    object \n",
            " 20  RaceDesc                    311 non-null    object \n",
            " 21  DateofHire                  311 non-null    object \n",
            " 22  DateofTermination           104 non-null    object \n",
            " 23  TermReason                  311 non-null    object \n",
            " 24  EmploymentStatus            311 non-null    object \n",
            " 25  Department                  311 non-null    object \n",
            " 26  ManagerName                 311 non-null    object \n",
            " 27  ManagerID                   311 non-null    float64\n",
            " 28  RecruitmentSource           311 non-null    object \n",
            " 29  PerformanceScore            311 non-null    object \n",
            " 30  EngagementSurvey            311 non-null    float64\n",
            " 31  EmpSatisfaction             311 non-null    int64  \n",
            " 32  SpecialProjectsCount        311 non-null    int64  \n",
            " 33  LastPerformanceReview_Date  311 non-null    object \n",
            " 34  DaysLateLast30              311 non-null    int64  \n",
            " 35  Absences                    311 non-null    int64  \n",
            "dtypes: float64(2), int64(16), object(18)\n",
            "memory usage: 87.6+ KB\n"
          ]
        }
      ]
    },
    {
      "cell_type": "markdown",
      "source": [
        "# Convert date columns to datetime objects"
      ],
      "metadata": {
        "id": "C164PkLvYzDt"
      }
    },
    {
      "cell_type": "code",
      "source": [
        "# Convert date columns to datetime objects\n",
        "df['DOB'] = pd.to_datetime(df['DOB'], errors='coerce')\n",
        "df['DateofHire'] = pd.to_datetime(df['DateofHire'], errors='coerce')\n",
        "df['DateofTermination'] = pd.to_datetime(df['DateofTermination'], errors='coerce')\n",
        "df['LastPerformanceReview_Date'] = pd.to_datetime(df['LastPerformanceReview_Date'], errors='coerce')\n",
        "\n",
        "# Verify the data type conversion\n",
        "print(df.info())"
      ],
      "metadata": {
        "colab": {
          "base_uri": "https://localhost:8080/"
        },
        "id": "HmsoBB9PUCoc",
        "outputId": "9b38697b-5f8d-4035-dafb-1853ad7073cc"
      },
      "execution_count": null,
      "outputs": [
        {
          "output_type": "stream",
          "name": "stdout",
          "text": [
            "<class 'pandas.core.frame.DataFrame'>\n",
            "RangeIndex: 311 entries, 0 to 310\n",
            "Data columns (total 36 columns):\n",
            " #   Column                      Non-Null Count  Dtype         \n",
            "---  ------                      --------------  -----         \n",
            " 0   Employee_Name               311 non-null    object        \n",
            " 1   EmpID                       311 non-null    int64         \n",
            " 2   MarriedID                   311 non-null    int64         \n",
            " 3   MaritalStatusID             311 non-null    int64         \n",
            " 4   GenderID                    311 non-null    int64         \n",
            " 5   EmpStatusID                 311 non-null    int64         \n",
            " 6   DeptID                      311 non-null    int64         \n",
            " 7   PerfScoreID                 311 non-null    int64         \n",
            " 8   FromDiversityJobFairID      311 non-null    int64         \n",
            " 9   Salary                      311 non-null    int64         \n",
            " 10  Termd                       311 non-null    int64         \n",
            " 11  PositionID                  311 non-null    int64         \n",
            " 12  Position                    311 non-null    object        \n",
            " 13  State                       311 non-null    object        \n",
            " 14  Zip                         311 non-null    int64         \n",
            " 15  DOB                         311 non-null    datetime64[ns]\n",
            " 16  Sex                         311 non-null    object        \n",
            " 17  MaritalDesc                 311 non-null    object        \n",
            " 18  CitizenDesc                 311 non-null    object        \n",
            " 19  HispanicLatino              311 non-null    object        \n",
            " 20  RaceDesc                    311 non-null    object        \n",
            " 21  DateofHire                  311 non-null    datetime64[ns]\n",
            " 22  DateofTermination           104 non-null    datetime64[ns]\n",
            " 23  TermReason                  311 non-null    object        \n",
            " 24  EmploymentStatus            311 non-null    object        \n",
            " 25  Department                  311 non-null    object        \n",
            " 26  ManagerName                 311 non-null    object        \n",
            " 27  ManagerID                   311 non-null    float64       \n",
            " 28  RecruitmentSource           311 non-null    object        \n",
            " 29  PerformanceScore            311 non-null    object        \n",
            " 30  EngagementSurvey            311 non-null    float64       \n",
            " 31  EmpSatisfaction             311 non-null    int64         \n",
            " 32  SpecialProjectsCount        311 non-null    int64         \n",
            " 33  LastPerformanceReview_Date  311 non-null    datetime64[ns]\n",
            " 34  DaysLateLast30              311 non-null    int64         \n",
            " 35  Absences                    311 non-null    int64         \n",
            "dtypes: datetime64[ns](4), float64(2), int64(16), object(14)\n",
            "memory usage: 87.6+ KB\n",
            "None\n"
          ]
        },
        {
          "output_type": "stream",
          "name": "stderr",
          "text": [
            "<ipython-input-12-8c3588b0d16e>:2: UserWarning: Could not infer format, so each element will be parsed individually, falling back to `dateutil`. To ensure parsing is consistent and as-expected, please specify a format.\n",
            "  df['DOB'] = pd.to_datetime(df['DOB'], errors='coerce')\n"
          ]
        }
      ]
    },
    {
      "cell_type": "markdown",
      "source": [
        "# Examine unique values in categorical columns"
      ],
      "metadata": {
        "id": "de1M0GOCY75T"
      }
    },
    {
      "cell_type": "code",
      "source": [
        "# Get unique values for the 'Department' column\n",
        "print(\"Unique values in 'Department':\")\n",
        "print(df['Department'].unique())\n",
        "\n",
        "# Get unique values for the 'Position' column\n",
        "print(\"\\nUnique values in 'Position':\")\n",
        "print(df['Position'].unique())\n",
        "\n",
        "# Get unique values for the 'EmploymentStatus' column\n",
        "print(\"\\nUnique values in 'EmploymentStatus':\")\n",
        "print(df['EmploymentStatus'].unique())\n",
        "\n",
        "# Get unique values for the 'RecruitmentSource' column\n",
        "print(\"\\nUnique values in 'RecruitmentSource':\")\n",
        "print(df['RecruitmentSource'].unique())\n",
        "\n",
        "# You can explore other categorical columns as well, like 'State', 'Sex', 'MaritalDesc', etc."
      ],
      "metadata": {
        "colab": {
          "base_uri": "https://localhost:8080/"
        },
        "id": "SN8XY1spUSVn",
        "outputId": "b9fd135f-5304-471f-a4f7-43456ee7b1d3"
      },
      "execution_count": null,
      "outputs": [
        {
          "output_type": "stream",
          "name": "stdout",
          "text": [
            "Unique values in 'Department':\n",
            "['Production       ' 'IT/IS' 'Software Engineering' 'Admin Offices'\n",
            " 'Sales' 'Executive Office']\n",
            "\n",
            "Unique values in 'Position':\n",
            "['Production Technician I' 'Sr. DBA' 'Production Technician II'\n",
            " 'Software Engineer' 'IT Support' 'Data Analyst' 'Database Administrator'\n",
            " 'Enterprise Architect' 'Sr. Accountant' 'Production Manager'\n",
            " 'Accountant I' 'Area Sales Manager' 'Software Engineering Manager'\n",
            " 'BI Director' 'Director of Operations' 'Sr. Network Engineer'\n",
            " 'Sales Manager' 'BI Developer' 'IT Manager - Support' 'Network Engineer'\n",
            " 'IT Director' 'Director of Sales' 'Administrative Assistant'\n",
            " 'President & CEO' 'Senior BI Developer' 'Shared Services Manager'\n",
            " 'IT Manager - Infra' 'Principal Data Architect' 'Data Architect'\n",
            " 'IT Manager - DB' 'Data Analyst ' 'CIO']\n",
            "\n",
            "Unique values in 'EmploymentStatus':\n",
            "['Active' 'Voluntarily Terminated' 'Terminated for Cause']\n",
            "\n",
            "Unique values in 'RecruitmentSource':\n",
            "['LinkedIn' 'Indeed' 'Google Search' 'Employee Referral'\n",
            " 'Diversity Job Fair' 'On-line Web application' 'CareerBuilder' 'Website'\n",
            " 'Other']\n"
          ]
        }
      ]
    },
    {
      "cell_type": "code",
      "source": [
        "# Remove leading/trailing whitespace from the 'Position' column\n",
        "df['Position'] = df['Position'].str.strip()\n",
        "\n",
        "# Verify that the change has been made\n",
        "print(\"\\nUnique values in 'Position' after stripping whitespace:\")\n",
        "print(df['Position'].unique())"
      ],
      "metadata": {
        "colab": {
          "base_uri": "https://localhost:8080/"
        },
        "id": "sv6VPxOfUeVV",
        "outputId": "6471560c-32db-49fa-8103-548d299c885e"
      },
      "execution_count": null,
      "outputs": [
        {
          "output_type": "stream",
          "name": "stdout",
          "text": [
            "\n",
            "Unique values in 'Position' after stripping whitespace:\n",
            "['Production Technician I' 'Sr. DBA' 'Production Technician II'\n",
            " 'Software Engineer' 'IT Support' 'Data Analyst' 'Database Administrator'\n",
            " 'Enterprise Architect' 'Sr. Accountant' 'Production Manager'\n",
            " 'Accountant I' 'Area Sales Manager' 'Software Engineering Manager'\n",
            " 'BI Director' 'Director of Operations' 'Sr. Network Engineer'\n",
            " 'Sales Manager' 'BI Developer' 'IT Manager - Support' 'Network Engineer'\n",
            " 'IT Director' 'Director of Sales' 'Administrative Assistant'\n",
            " 'President & CEO' 'Senior BI Developer' 'Shared Services Manager'\n",
            " 'IT Manager - Infra' 'Principal Data Architect' 'Data Architect'\n",
            " 'IT Manager - DB' 'CIO']\n"
          ]
        }
      ]
    },
    {
      "cell_type": "code",
      "source": [
        "print(df.describe())"
      ],
      "metadata": {
        "colab": {
          "base_uri": "https://localhost:8080/"
        },
        "id": "PKmPWhQwUsuu",
        "outputId": "74fba409-ec75-4526-fb0c-bc17898f7cda"
      },
      "execution_count": null,
      "outputs": [
        {
          "output_type": "stream",
          "name": "stdout",
          "text": [
            "              EmpID   MarriedID  MaritalStatusID    GenderID  EmpStatusID  \\\n",
            "count    311.000000  311.000000       311.000000  311.000000   311.000000   \n",
            "mean   10156.000000    0.398714         0.810289    0.434084     2.392283   \n",
            "min    10001.000000    0.000000         0.000000    0.000000     1.000000   \n",
            "25%    10078.500000    0.000000         0.000000    0.000000     1.000000   \n",
            "50%    10156.000000    0.000000         1.000000    0.000000     1.000000   \n",
            "75%    10233.500000    1.000000         1.000000    1.000000     5.000000   \n",
            "max    10311.000000    1.000000         4.000000    1.000000     5.000000   \n",
            "std       89.922189    0.490423         0.943239    0.496435     1.794383   \n",
            "\n",
            "           DeptID  PerfScoreID  FromDiversityJobFairID         Salary  \\\n",
            "count  311.000000   311.000000              311.000000     311.000000   \n",
            "mean     4.610932     2.977492                0.093248   69020.684887   \n",
            "min      1.000000     1.000000                0.000000   45046.000000   \n",
            "25%      5.000000     3.000000                0.000000   55501.500000   \n",
            "50%      5.000000     3.000000                0.000000   62810.000000   \n",
            "75%      5.000000     3.000000                0.000000   72036.000000   \n",
            "max      6.000000     4.000000                1.000000  250000.000000   \n",
            "std      1.083487     0.587072                0.291248   25156.636930   \n",
            "\n",
            "            Termd  ...                            DOB  \\\n",
            "count  311.000000  ...                            311   \n",
            "mean     0.334405  ...  2008-05-11 18:54:24.308681728   \n",
            "min      0.000000  ...            1975-03-10 00:00:00   \n",
            "25%      0.000000  ...            1981-11-09 00:00:00   \n",
            "50%      0.000000  ...            1986-11-07 00:00:00   \n",
            "75%      1.000000  ...            2060-07-19 00:00:00   \n",
            "max      1.000000  ...            2074-12-21 00:00:00   \n",
            "std      0.472542  ...                            NaN   \n",
            "\n",
            "                          DateofHire              DateofTermination  \\\n",
            "count                            311                            104   \n",
            "mean   2013-02-03 22:50:32.797427712  2015-06-14 11:46:09.230769152   \n",
            "min              2006-01-09 00:00:00            2010-08-30 00:00:00   \n",
            "25%              2011-07-11 00:00:00            2014-01-10 12:00:00   \n",
            "50%              2013-02-18 00:00:00            2015-09-22 00:00:00   \n",
            "75%              2014-09-23 12:00:00            2016-09-08 06:00:00   \n",
            "max              2018-07-09 00:00:00            2018-11-10 00:00:00   \n",
            "std                              NaN                            NaN   \n",
            "\n",
            "        ManagerID EngagementSurvey  EmpSatisfaction  SpecialProjectsCount  \\\n",
            "count  311.000000       311.000000       311.000000            311.000000   \n",
            "mean    15.199357         4.110000         3.890675              1.218650   \n",
            "min      1.000000         1.120000         1.000000              0.000000   \n",
            "25%     10.000000         3.690000         3.000000              0.000000   \n",
            "50%     16.000000         4.280000         4.000000              0.000000   \n",
            "75%     19.500000         4.700000         5.000000              0.000000   \n",
            "max     39.000000         5.000000         5.000000              8.000000   \n",
            "std      8.864507         0.789938         0.909241              2.349421   \n",
            "\n",
            "          LastPerformanceReview_Date  DaysLateLast30    Absences  \n",
            "count                            311      311.000000  311.000000  \n",
            "mean   2017-09-10 21:17:56.527331072        0.414791   10.237942  \n",
            "min              2010-07-14 00:00:00        0.000000    1.000000  \n",
            "25%              2016-03-19 12:00:00        0.000000    5.000000  \n",
            "50%              2019-01-16 00:00:00        0.000000   10.000000  \n",
            "75%              2019-02-04 00:00:00        0.000000   15.000000  \n",
            "max              2019-02-28 00:00:00        6.000000   20.000000  \n",
            "std                              NaN        1.294519    5.852596  \n",
            "\n",
            "[8 rows x 22 columns]\n"
          ]
        }
      ]
    },
    {
      "cell_type": "code",
      "source": [
        "print(df['Department'].value_counts())\n",
        "print(\"\\n\", df['Position'].value_counts().head(10)) # Top 10 positions\n",
        "print(\"\\n\", df['EmploymentStatus'].value_counts())\n",
        "print(\"\\n\", df['PerformanceScore'].value_counts())"
      ],
      "metadata": {
        "colab": {
          "base_uri": "https://localhost:8080/"
        },
        "id": "5TiSwa6rUw43",
        "outputId": "7a8b615c-59e4-4c8a-96aa-ed6b1c30d723"
      },
      "execution_count": null,
      "outputs": [
        {
          "output_type": "stream",
          "name": "stdout",
          "text": [
            "Department\n",
            "Production              209\n",
            "IT/IS                    50\n",
            "Sales                    31\n",
            "Software Engineering     11\n",
            "Admin Offices             9\n",
            "Executive Office          1\n",
            "Name: count, dtype: int64\n",
            "\n",
            " Position\n",
            "Production Technician I     137\n",
            "Production Technician II     57\n",
            "Area Sales Manager           27\n",
            "Production Manager           14\n",
            "Software Engineer            10\n",
            "Data Analyst                  8\n",
            "IT Support                    8\n",
            "Database Administrator        5\n",
            "Sr. Network Engineer          5\n",
            "Network Engineer              5\n",
            "Name: count, dtype: int64\n",
            "\n",
            " EmploymentStatus\n",
            "Active                    207\n",
            "Voluntarily Terminated     88\n",
            "Terminated for Cause       16\n",
            "Name: count, dtype: int64\n",
            "\n",
            " PerformanceScore\n",
            "Fully Meets          243\n",
            "Exceeds               37\n",
            "Needs Improvement     18\n",
            "PIP                   13\n",
            "Name: count, dtype: int64\n"
          ]
        }
      ]
    },
    {
      "cell_type": "code",
      "source": [
        "import matplotlib.pyplot as plt\n",
        "import seaborn as sns\n",
        "\n",
        "plt.figure(figsize=(10, 6))\n",
        "sns.histplot(df['Salary'], bins=20, kde=True)\n",
        "plt.title('Distribution of Employee Salaries')\n",
        "plt.xlabel('Salary')\n",
        "plt.ylabel('Frequency')\n",
        "plt.show()\n",
        "\n",
        "# We'll calculate age later from DOB"
      ],
      "metadata": {
        "colab": {
          "base_uri": "https://localhost:8080/",
          "height": 564
        },
        "id": "QpVPAPW4U0IN",
        "outputId": "f3323b47-040b-468a-ae61-ab14b304bb12"
      },
      "execution_count": null,
      "outputs": [
        {
          "output_type": "display_data",
          "data": {
            "text/plain": [
              "<Figure size 1000x600 with 1 Axes>"
            ],
            "image/png": "[encoded data removed]"
          },
          "metadata": {}
        }
      ]
    },
    {
      "cell_type": "code",
      "source": [
        "plt.figure(figsize=(12, 6))\n",
        "sns.countplot(y='Department', data=df, order=df['Department'].value_counts().index)\n",
        "plt.title('Distribution of Employees by Department')\n",
        "plt.xlabel('Number of Employees')\n",
        "plt.ylabel('Department')\n",
        "plt.show()"
      ],
      "metadata": {
        "colab": {
          "base_uri": "https://localhost:8080/",
          "height": 564
        },
        "id": "PNRGeaoCU4BJ",
        "outputId": "127d57d3-e8f2-4948-f151-c31c05e5c1b9"
      },
      "execution_count": null,
      "outputs": [
        {
          "output_type": "display_data",
          "data": {
            "text/plain": [
              "<Figure size 1200x600 with 1 Axes>"
            ],
            "image/png": "[encoded data removed]"
          },
          "metadata": {}
        }
      ]
    },
    {
      "cell_type": "code",
      "source": [
        "plt.figure(figsize=(14, 7))\n",
        "sns.boxplot(x='Department', y='Salary', data=df)\n",
        "plt.title('Salary Distribution by Department')\n",
        "plt.xlabel('Department')\n",
        "plt.ylabel('Salary')\n",
        "plt.xticks(rotation=45, ha='right')\n",
        "plt.tight_layout()\n",
        "plt.show()"
      ],
      "metadata": {
        "colab": {
          "base_uri": "https://localhost:8080/",
          "height": 686
        },
        "id": "fuZAj790U6i3",
        "outputId": "e80a4121-f60d-4625-ad15-7b621e08d1bd"
      },
      "execution_count": null,
      "outputs": [
        {
          "output_type": "display_data",
          "data": {
            "text/plain": [
              "<Figure size 1400x700 with 1 Axes>"
            ],
            "image/png": "[encoded data removed]"
          },
          "metadata": {}
        }
      ]
    },
    {
      "cell_type": "code",
      "source": [
        "import pandas as pd\n",
        "from datetime import datetime\n",
        "\n",
        "# Convert 'DateofHire' and 'DateofTermination' to datetime objects (re-run in case)\n",
        "df['DateofHire'] = pd.to_datetime(df['DateofHire'], errors='coerce')\n",
        "df['DateofTermination'] = pd.to_datetime(df['DateofTermination'], errors='coerce')\n",
        "\n",
        "# Define a reference date for calculating tenure for active employees\n",
        "reference_date = df['DateofHire'].max() + pd.Timedelta(days=30) # A bit after the last hire date to be safe\n",
        "\n",
        "# Calculate Tenure in years\n",
        "df['Tenure'] = (df['DateofTermination'] - df['DateofHire']).dt.days / 365.25\n",
        "df['Tenure'] = df['Tenure'].fillna(((reference_date - df['DateofHire']).dt.days / 365.25))\n",
        "\n",
        "# Create Employment Status Flag\n",
        "df['EmploymentStatus_Flag'] = df['DateofTermination'].apply(lambda x: 'Active' if pd.isnull(x) else 'Terminated')\n",
        "\n",
        "# Display the new columns and some info\n",
        "print(df[['Employee_Name', 'DateofHire', 'DateofTermination', 'Tenure', 'EmploymentStatus_Flag']].head())\n",
        "print(\"\\nValue counts for EmploymentStatus_Flag:\")\n",
        "print(df['EmploymentStatus_Flag'].value_counts())"
      ],
      "metadata": {
        "colab": {
          "base_uri": "https://localhost:8080/"
        },
        "id": "J_IBEYLkWI4N",
        "outputId": "bf539d5d-69fe-4b8a-c122-87ee3c88c7ac"
      },
      "execution_count": null,
      "outputs": [
        {
          "output_type": "stream",
          "name": "stdout",
          "text": [
            "              Employee_Name DateofHire DateofTermination     Tenure  \\\n",
            "0       Adinolfi, Wilson  K 2011-07-05               NaT   7.093771   \n",
            "1  Ait Sidi, Karthikeyan    2015-03-30        2016-06-16   1.215606   \n",
            "2         Akinkuolie, Sarah 2011-07-05        2012-09-24   1.223819   \n",
            "3              Alagbe,Trina 2008-01-07               NaT  10.584531   \n",
            "4          Anderson, Carol  2011-07-11        2016-09-06   5.158111   \n",
            "\n",
            "  EmploymentStatus_Flag  \n",
            "0                Active  \n",
            "1            Terminated  \n",
            "2            Terminated  \n",
            "3                Active  \n",
            "4            Terminated  \n",
            "\n",
            "Value counts for EmploymentStatus_Flag:\n",
            "EmploymentStatus_Flag\n",
            "Active        207\n",
            "Terminated    104\n",
            "Name: count, dtype: int64\n"
          ]
        }
      ]
    },
    {
      "cell_type": "code",
      "source": [
        "import pandas as pd\n",
        "from datetime import datetime\n",
        "\n",
        "# Ensure 'DOB' is in datetime format (re-run in case)\n",
        "df['DOB'] = pd.to_datetime(df['DOB'], errors='coerce')\n",
        "\n",
        "# Get the current date for age calculation\n",
        "current_date = datetime.now() # Or a specific reference date if needed for the project context\n",
        "\n",
        "# Calculate Age in years\n",
        "df['Age'] = (current_date - df['DOB']).dt.days / 365.25\n",
        "\n",
        "# Round the age to the nearest whole number\n",
        "df['Age'] = df['Age'].round().astype(int)\n",
        "\n",
        "# Display the new column and some info\n",
        "print(df[['Employee_Name', 'DOB', 'Age']].head())\n",
        "print(\"\\nDescriptive statistics for Age:\")\n",
        "print(df['Age'].describe())"
      ],
      "metadata": {
        "colab": {
          "base_uri": "https://localhost:8080/"
        },
        "id": "m4W3LWiZWUyc",
        "outputId": "5ccf96ed-a0c1-465e-fb59-64faa55054ae"
      },
      "execution_count": null,
      "outputs": [
        {
          "output_type": "stream",
          "name": "stdout",
          "text": [
            "              Employee_Name        DOB  Age\n",
            "0       Adinolfi, Wilson  K 1983-07-10   42\n",
            "1  Ait Sidi, Karthikeyan    1975-05-05   50\n",
            "2         Akinkuolie, Sarah 1988-09-19   37\n",
            "3              Alagbe,Trina 1988-09-27   37\n",
            "4          Anderson, Carol  1989-09-08   36\n",
            "\n",
            "Descriptive statistics for Age:\n",
            "count    311.000000\n",
            "mean      16.974277\n",
            "std       38.610704\n",
            "min      -50.000000\n",
            "25%      -35.000000\n",
            "50%       38.000000\n",
            "75%       43.000000\n",
            "max       50.000000\n",
            "Name: Age, dtype: float64\n"
          ]
        }
      ]
    },
    {
      "cell_type": "code",
      "source": [
        "df_sorted_age = df.sort_values(by='Age')\n",
        "print(df_sorted_age[['Employee_Name', 'DOB', 'Age']].head())\n",
        "print(df_sorted_age[['Employee_Name', 'DOB', 'Age']].tail())"
      ],
      "metadata": {
        "colab": {
          "base_uri": "https://localhost:8080/"
        },
        "id": "8jdZmdbHWqVo",
        "outputId": "22f42015-3a39-4c04-e091-e62307dd1ea4"
      },
      "execution_count": null,
      "outputs": [
        {
          "output_type": "stream",
          "name": "stdout",
          "text": [
            "         Employee_Name        DOB  Age\n",
            "241     Rose, Ashley   2074-12-05  -50\n",
            "195  Moumanil, Maliki  2074-12-01  -50\n",
            "179     Mangal, Debbie 2074-11-07  -50\n",
            "247      Sadki, Nore   2074-12-21  -50\n",
            "78         Dunn, Amy   2073-11-28  -49\n",
            "                Employee_Name        DOB  Age\n",
            "264            Spirea, Kelley 1975-09-30   50\n",
            "95              Forrest, Alex 1975-07-07   50\n",
            "280          Thibaud, Kenneth 1975-09-16   50\n",
            "276        Tavares, Desiree   1975-04-03   50\n",
            "1    Ait Sidi, Karthikeyan    1975-05-05   50\n"
          ]
        }
      ]
    },
    {
      "cell_type": "code",
      "source": [
        "import numpy as np\n",
        "\n",
        "# Set 'Age' to NaN where it's negative\n",
        "df.loc[df['Age'] < 0, 'Age'] = np.nan\n",
        "\n",
        "# Verify the change\n",
        "print(df_sorted_age[['Employee_Name', 'DOB', 'Age']].head()) # Should now show NaN for negative ages\n",
        "print(\"\\nDescriptive statistics for Age after handling errors:\")\n",
        "print(df['Age'].describe())\n",
        "print(\"\\nNumber of NaN values in Age:\")\n",
        "print(df['Age'].isnull().sum())"
      ],
      "metadata": {
        "colab": {
          "base_uri": "https://localhost:8080/"
        },
        "id": "OzyQxG3QW194",
        "outputId": "2765253b-20e9-4f55-9463-1ad19b19937e"
      },
      "execution_count": null,
      "outputs": [
        {
          "output_type": "stream",
          "name": "stdout",
          "text": [
            "         Employee_Name        DOB  Age\n",
            "241     Rose, Ashley   2074-12-05  -50\n",
            "195  Moumanil, Maliki  2074-12-01  -50\n",
            "179     Mangal, Debbie 2074-11-07  -50\n",
            "247      Sadki, Nore   2074-12-21  -50\n",
            "78         Dunn, Amy   2073-11-28  -49\n",
            "\n",
            "Descriptive statistics for Age after handling errors:\n",
            "count    220.000000\n",
            "mean      41.554545\n",
            "std        4.363791\n",
            "min       33.000000\n",
            "25%       38.000000\n",
            "50%       41.000000\n",
            "75%       45.000000\n",
            "max       50.000000\n",
            "Name: Age, dtype: float64\n",
            "\n",
            "Number of NaN values in Age:\n",
            "91\n"
          ]
        }
      ]
    },
    {
      "cell_type": "code",
      "source": [
        "from google.colab import files\n",
        "import pandas as pd\n",
        "\n",
        "# Save the cleaned DataFrame to a new CSV file in Colab's environment\n",
        "cleaned_file_name = 'HRDataset_cleaned.csv'\n",
        "df.to_csv(cleaned_file_name, index=False)\n",
        "\n",
        "print(f\"\\nCleaned dataset saved to: {cleaned_file_name} in Colab.\")\n",
        "\n",
        "# Trigger the download to your local machine\n",
        "files.download(cleaned_file_name)\n",
        "\n",
        "print(\"\\nFile download initiated. Please check your browser's download settings.\")"
      ],
      "metadata": {
        "colab": {
          "base_uri": "https://localhost:8080/",
          "height": 88
        },
        "id": "PokbCvbcW-5h",
        "outputId": "8becdb1a-c0a8-4e9f-af36-9233fa5f6645"
      },
      "execution_count": null,
      "outputs": [
        {
          "output_type": "stream",
          "name": "stdout",
          "text": [
            "\n",
            "Cleaned dataset saved to: HRDataset_cleaned.csv in Colab.\n"
          ]
        },
        {
          "output_type": "display_data",
          "data": {
            "text/plain": [
              "<IPython.core.display.Javascript object>"
            ],
            "application/javascript": [
              "\n",
              "    async function download(id, filename, size) {\n",
              "      if (!google.colab.kernel.accessAllowed) {\n",
              "        return;\n",
              "      }\n",
              "      const div = document.createElement('div');\n",
              "      const label = document.createElement('label');\n",
              "      label.textContent = `Downloading \"${filename}\": `;\n",
              "      div.appendChild(label);\n",
              "      const progress = document.createElement('progress');\n",
              "      progress.max = size;\n",
              "      div.appendChild(progress);\n",
              "      document.body.appendChild(div);\n",
              "\n",
              "      const buffers = [];\n",
              "      let downloaded = 0;\n",
              "\n",
              "      const channel = await google.colab.kernel.comms.open(id);\n",
              "      // Send a message to notify the kernel that we're ready.\n",
              "      channel.send({})\n",
              "\n",
              "      for await (const message of channel.messages) {\n",
              "        // Send a message to notify the kernel that we're ready.\n",
              "        channel.send({})\n",
              "        if (message.buffers) {\n",
              "          for (const buffer of message.buffers) {\n",
              "            buffers.push(buffer);\n",
              "            downloaded += buffer.byteLength;\n",
              "            progress.value = downloaded;\n",
              "          }\n",
              "        }\n",
              "      }\n",
              "      const blob = new Blob(buffers, {type: 'application/binary'});\n",
              "      const a = document.createElement('a');\n",
              "      a.href = window.URL.createObjectURL(blob);\n",
              "      a.download = filename;\n",
              "      div.appendChild(a);\n",
              "      a.click();\n",
              "      div.remove();\n",
              "    }\n",
              "  "
            ]
          },
          "metadata": {}
        },
        {
          "output_type": "display_data",
          "data": {
            "text/plain": [
              "<IPython.core.display.Javascript object>"
            ],
            "application/javascript": [
              "download(\"download_45e7929a-103d-47bd-85df-c2002b8874a2\", \"HRDataset_cleaned.csv\", 87744)"
            ]
          },
          "metadata": {}
        },
        {
          "output_type": "stream",
          "name": "stdout",
          "text": [
            "\n",
            "File download initiated. Please check your browser's download settings.\n"
          ]
        }
      ]
    }
  ]
}